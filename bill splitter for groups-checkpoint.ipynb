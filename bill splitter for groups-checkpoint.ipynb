{
 "cells": [
  {
   "cell_type": "code",
   "execution_count": 1,
   "id": "d5ffb905-b018-4163-8b9a-5f5f700fdd9f",
   "metadata": {},
   "outputs": [
    {
     "name": "stdout",
     "output_type": "stream",
     "text": [
      "🧾 Welcome to the Bill Splitter App!\n",
      "\n"
     ]
    },
    {
     "name": "stdin",
     "output_type": "stream",
     "text": [
      "Enter the total bill amount (e.g., 1200.50): ₹ 5000\n",
      "Enter tip percentage (e.g., 10 for 10%):  20\n",
      "Enter the number of people:  4\n",
      "Enter name of person 1:  leela\n",
      "Enter name of person 2:  navi\n",
      "Enter name of person 3:  jagruthi\n",
      "Enter name of person 4:  anwitha\n"
     ]
    },
    {
     "name": "stdout",
     "output_type": "stream",
     "text": [
      "\n",
      "✅ Bill Summary:\n",
      "Original Bill Amount: ₹5000.00\n",
      "Tip (20.0%): ₹1000.00\n",
      "Total Amount to Pay: ₹6000.00\n",
      "Each person should pay: ₹1500.00\n",
      "\n",
      "💸 Amount to be paid by each person:\n",
      "👉 leela should pay: ₹1500.00\n",
      "👉 navi should pay: ₹1500.00\n",
      "👉 jagruthi should pay: ₹1500.00\n",
      "👉 anwitha should pay: ₹1500.00\n"
     ]
    }
   ],
   "source": [
    "def bill_splitter():\n",
    "    try:\n",
    "        print(\"🧾 Welcome to the Bill Splitter App!\\n\")\n",
    "\n",
    "        # Step 1: Enter total bill amount\n",
    "        total_bill = float(input(\"Enter the total bill amount (e.g., 1200.50): ₹\"))\n",
    "\n",
    "        # Step 2: Enter tip percentage\n",
    "        tip_percent = float(input(\"Enter tip percentage (e.g., 10 for 10%): \"))\n",
    "\n",
    "        # Step 3: Enter number of people\n",
    "        num_people = int(input(\"Enter the number of people: \"))\n",
    "\n",
    "        if num_people <= 0:\n",
    "            print(\"⚠ Number of people must be greater than zero.\")\n",
    "            return\n",
    "\n",
    "        # Step 4: Get names of people\n",
    "        names = []\n",
    "        for i in range(num_people):\n",
    "            name = input(f\"Enter name of person {i+1}: \")\n",
    "            names.append(name)\n",
    "\n",
    "        # Step 5: Calculate total with tip\n",
    "        total_with_tip = total_bill + (total_bill * tip_percent / 100)\n",
    "        amount_per_person = round(total_with_tip / num_people, 2)\n",
    "\n",
    "        # Step 6: Display results\n",
    "        print(\"\\n✅ Bill Summary:\")\n",
    "        print(f\"Original Bill Amount: ₹{total_bill:.2f}\")\n",
    "        print(f\"Tip ({tip_percent}%): ₹{total_with_tip - total_bill:.2f}\")\n",
    "        print(f\"Total Amount to Pay: ₹{total_with_tip:.2f}\")\n",
    "        print(f\"Each person should pay: ₹{amount_per_person:.2f}\\n\")\n",
    "\n",
    "        print(\"💸 Amount to be paid by each person:\")\n",
    "        for name in names:\n",
    "            print(f\"👉 {name} should pay: ₹{amount_per_person:.2f}\")\n",
    "\n",
    "    except ValueError:\n",
    "        print(\"❌ Invalid input! Please enter numbers where required.\")\n",
    "\n",
    "# Run the app\n",
    "bill_splitter()"
   ]
  },
  {
   "cell_type": "code",
   "execution_count": null,
   "id": "074163a9-aafa-4b68-ae79-2357836e4307",
   "metadata": {},
   "outputs": [],
   "source": []
  }
 ],
 "metadata": {
  "kernelspec": {
   "display_name": "Python 3 (ipykernel)",
   "language": "python",
   "name": "python3"
  },
  "language_info": {
   "codemirror_mode": {
    "name": "ipython",
    "version": 3
   },
   "file_extension": ".py",
   "mimetype": "text/x-python",
   "name": "python",
   "nbconvert_exporter": "python",
   "pygments_lexer": "ipython3",
   "version": "3.12.7"
  }
 },
 "nbformat": 4,
 "nbformat_minor": 5
}
